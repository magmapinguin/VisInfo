{
 "cells": [
  {
   "cell_type": "markdown",
   "metadata": {},
   "source": [
    "## Garcìa Avendaño Martìn Jesùs "
   ]
  },
  {
   "cell_type": "markdown",
   "metadata": {},
   "source": [
    "### 1.- Encontrar el valor atípico y explicar por qué se considera un valor extraño."
   ]
  },
  {
   "cell_type": "markdown",
   "metadata": {},
   "source": [
    "#### Considero que el valor atipico se encuentra en el registro de un procesador ya que el tiempo que este tarda en ejecutar la ejecucion es sumamente alto con respecto al que tiene con el siguiente registro de 16 procesadores, esta anomalia se puede reafirmar al aplicar una simple division y multiplicacion posterior, proceso que en los otros registros el resultado varia pero no de forma tan abismal "
   ]
  },
  {
   "cell_type": "markdown",
   "metadata": {},
   "source": [
    "### 2.- Crear un archivo de esos datos en el formato CSV y leerlo en un Dataframe de Pandas."
   ]
  },
  {
   "cell_type": "code",
   "execution_count": 12,
   "metadata": {},
   "outputs": [],
   "source": [
    "import pandas as pd \n",
    "import matplotlib.pyplot as plt"
   ]
  },
  {
   "cell_type": "code",
   "execution_count": 13,
   "metadata": {},
   "outputs": [
    {
     "data": {
      "text/html": [
       "<div>\n",
       "<style scoped>\n",
       "    .dataframe tbody tr th:only-of-type {\n",
       "        vertical-align: middle;\n",
       "    }\n",
       "\n",
       "    .dataframe tbody tr th {\n",
       "        vertical-align: top;\n",
       "    }\n",
       "\n",
       "    .dataframe thead th {\n",
       "        text-align: right;\n",
       "    }\n",
       "</style>\n",
       "<table border=\"1\" class=\"dataframe\">\n",
       "  <thead>\n",
       "    <tr style=\"text-align: right;\">\n",
       "      <th></th>\n",
       "      <th>Procesadores</th>\n",
       "      <th>Tiempo</th>\n",
       "    </tr>\n",
       "  </thead>\n",
       "  <tbody>\n",
       "    <tr>\n",
       "      <td>0</td>\n",
       "      <td>1</td>\n",
       "      <td>29278</td>\n",
       "    </tr>\n",
       "    <tr>\n",
       "      <td>1</td>\n",
       "      <td>16</td>\n",
       "      <td>178</td>\n",
       "    </tr>\n",
       "    <tr>\n",
       "      <td>2</td>\n",
       "      <td>25</td>\n",
       "      <td>78</td>\n",
       "    </tr>\n",
       "    <tr>\n",
       "      <td>3</td>\n",
       "      <td>64</td>\n",
       "      <td>16</td>\n",
       "    </tr>\n",
       "    <tr>\n",
       "      <td>4</td>\n",
       "      <td>256</td>\n",
       "      <td>2</td>\n",
       "    </tr>\n",
       "    <tr>\n",
       "      <td>5</td>\n",
       "      <td>400</td>\n",
       "      <td>1</td>\n",
       "    </tr>\n",
       "  </tbody>\n",
       "</table>\n",
       "</div>"
      ],
      "text/plain": [
       "   Procesadores  Tiempo \n",
       "0             1    29278\n",
       "1            16      178\n",
       "2            25       78\n",
       "3            64       16\n",
       "4           256        2\n",
       "5           400        1"
      ]
     },
     "execution_count": 13,
     "metadata": {},
     "output_type": "execute_result"
    }
   ],
   "source": [
    "datos = pd.read_csv(\"Tabla_visualiazacion.csv\")\n",
    "df = pd.DataFrame(datos)\n",
    "df"
   ]
  },
  {
   "cell_type": "markdown",
   "metadata": {},
   "source": [
    "### 3.- Completar las columnas de Speeup, Efficiency y Cost usando las fórmulas mostradas en la diapositiva 6, tanto para el caso absoluto como para el caso relativo con p' = 16. Agregar estos datos al dataframe antes creado y realizar los gráficos correspondientes usando Matplotlib."
   ]
  },
  {
   "cell_type": "markdown",
   "metadata": {},
   "source": [
    "#### 3.1 LLenar la columna de speedup "
   ]
  },
  {
   "cell_type": "code",
   "execution_count": 16,
   "metadata": {},
   "outputs": [
    {
     "data": {
      "text/html": [
       "<div>\n",
       "<style scoped>\n",
       "    .dataframe tbody tr th:only-of-type {\n",
       "        vertical-align: middle;\n",
       "    }\n",
       "\n",
       "    .dataframe tbody tr th {\n",
       "        vertical-align: top;\n",
       "    }\n",
       "\n",
       "    .dataframe thead th {\n",
       "        text-align: right;\n",
       "    }\n",
       "</style>\n",
       "<table border=\"1\" class=\"dataframe\">\n",
       "  <thead>\n",
       "    <tr style=\"text-align: right;\">\n",
       "      <th></th>\n",
       "      <th>Procesadores</th>\n",
       "      <th>Tiempo</th>\n",
       "      <th>Aceleracion</th>\n",
       "    </tr>\n",
       "  </thead>\n",
       "  <tbody>\n",
       "    <tr>\n",
       "      <td>0</td>\n",
       "      <td>1</td>\n",
       "      <td>29278</td>\n",
       "      <td>1.000000</td>\n",
       "    </tr>\n",
       "    <tr>\n",
       "      <td>1</td>\n",
       "      <td>16</td>\n",
       "      <td>178</td>\n",
       "      <td>164.483146</td>\n",
       "    </tr>\n",
       "    <tr>\n",
       "      <td>2</td>\n",
       "      <td>25</td>\n",
       "      <td>78</td>\n",
       "      <td>375.358974</td>\n",
       "    </tr>\n",
       "    <tr>\n",
       "      <td>3</td>\n",
       "      <td>64</td>\n",
       "      <td>16</td>\n",
       "      <td>1829.875000</td>\n",
       "    </tr>\n",
       "    <tr>\n",
       "      <td>4</td>\n",
       "      <td>256</td>\n",
       "      <td>2</td>\n",
       "      <td>14639.000000</td>\n",
       "    </tr>\n",
       "    <tr>\n",
       "      <td>5</td>\n",
       "      <td>400</td>\n",
       "      <td>1</td>\n",
       "      <td>29278.000000</td>\n",
       "    </tr>\n",
       "  </tbody>\n",
       "</table>\n",
       "</div>"
      ],
      "text/plain": [
       "   Procesadores  Tiempo    Aceleracion\n",
       "0             1    29278      1.000000\n",
       "1            16      178    164.483146\n",
       "2            25       78    375.358974\n",
       "3            64       16   1829.875000\n",
       "4           256        2  14639.000000\n",
       "5           400        1  29278.000000"
      ]
     },
     "execution_count": 16,
     "metadata": {},
     "output_type": "execute_result"
    }
   ],
   "source": [
    "tp = [29278,178,78,16,2,1]\n",
    "t1 = 29278\n",
    "aceleracion = []\n",
    "for i in tp:\n",
    "    aceleracion.append(t1/i)\n",
    "\n",
    "df['Aceleracion'] = aceleracion\n",
    "df"
   ]
  },
  {
   "cell_type": "markdown",
   "metadata": {},
   "source": [
    "#### 3.2 LLenar la columna de Eficiencia"
   ]
  },
  {
   "cell_type": "code",
   "execution_count": 9,
   "metadata": {},
   "outputs": [
    {
     "data": {
      "text/html": [
       "<div>\n",
       "<style scoped>\n",
       "    .dataframe tbody tr th:only-of-type {\n",
       "        vertical-align: middle;\n",
       "    }\n",
       "\n",
       "    .dataframe tbody tr th {\n",
       "        vertical-align: top;\n",
       "    }\n",
       "\n",
       "    .dataframe thead th {\n",
       "        text-align: right;\n",
       "    }\n",
       "</style>\n",
       "<table border=\"1\" class=\"dataframe\">\n",
       "  <thead>\n",
       "    <tr style=\"text-align: right;\">\n",
       "      <th></th>\n",
       "      <th>Procesadores</th>\n",
       "      <th>Tiempo</th>\n",
       "      <th>Aceleracion</th>\n",
       "      <th>Eficiencia</th>\n",
       "    </tr>\n",
       "  </thead>\n",
       "  <tbody>\n",
       "    <tr>\n",
       "      <td>0</td>\n",
       "      <td>1</td>\n",
       "      <td>29278</td>\n",
       "      <td>1.000000</td>\n",
       "      <td>1.000000</td>\n",
       "    </tr>\n",
       "    <tr>\n",
       "      <td>1</td>\n",
       "      <td>16</td>\n",
       "      <td>178</td>\n",
       "      <td>164.483146</td>\n",
       "      <td>10.280197</td>\n",
       "    </tr>\n",
       "    <tr>\n",
       "      <td>2</td>\n",
       "      <td>25</td>\n",
       "      <td>78</td>\n",
       "      <td>375.358974</td>\n",
       "      <td>15.014359</td>\n",
       "    </tr>\n",
       "    <tr>\n",
       "      <td>3</td>\n",
       "      <td>64</td>\n",
       "      <td>16</td>\n",
       "      <td>1829.875000</td>\n",
       "      <td>28.591797</td>\n",
       "    </tr>\n",
       "    <tr>\n",
       "      <td>4</td>\n",
       "      <td>256</td>\n",
       "      <td>2</td>\n",
       "      <td>14639.000000</td>\n",
       "      <td>57.183594</td>\n",
       "    </tr>\n",
       "    <tr>\n",
       "      <td>5</td>\n",
       "      <td>400</td>\n",
       "      <td>1</td>\n",
       "      <td>29278.000000</td>\n",
       "      <td>73.195000</td>\n",
       "    </tr>\n",
       "  </tbody>\n",
       "</table>\n",
       "</div>"
      ],
      "text/plain": [
       "   Procesadores  Tiempo    Aceleracion  Eficiencia\n",
       "0             1    29278      1.000000    1.000000\n",
       "1            16      178    164.483146   10.280197\n",
       "2            25       78    375.358974   15.014359\n",
       "3            64       16   1829.875000   28.591797\n",
       "4           256        2  14639.000000   57.183594\n",
       "5           400        1  29278.000000   73.195000"
      ]
     },
     "execution_count": 9,
     "metadata": {},
     "output_type": "execute_result"
    }
   ],
   "source": [
    "import operator\n",
    "\n",
    "sp1 = df.Aceleracion\n",
    "pro = df.Procesadores\n",
    "\n",
    "Eficiencia = list(map(operator.truediv, sp1,pro))\n",
    "df['Eficiencia'] = Eficiencia\n",
    "df"
   ]
  },
  {
   "cell_type": "code",
   "execution_count": 8,
   "metadata": {
    "collapsed": true
   },
   "outputs": [
    {
     "data": {
      "text/html": [
       "<div>\n",
       "<style scoped>\n",
       "    .dataframe tbody tr th:only-of-type {\n",
       "        vertical-align: middle;\n",
       "    }\n",
       "\n",
       "    .dataframe tbody tr th {\n",
       "        vertical-align: top;\n",
       "    }\n",
       "\n",
       "    .dataframe thead th {\n",
       "        text-align: right;\n",
       "    }\n",
       "</style>\n",
       "<table border=\"1\" class=\"dataframe\">\n",
       "  <thead>\n",
       "    <tr style=\"text-align: right;\">\n",
       "      <th></th>\n",
       "      <th>Procesadores</th>\n",
       "      <th>Tiempo</th>\n",
       "      <th>Aceleracion</th>\n",
       "      <th>Eficiencia</th>\n",
       "    </tr>\n",
       "  </thead>\n",
       "  <tbody>\n",
       "    <tr>\n",
       "      <td>0</td>\n",
       "      <td>1</td>\n",
       "      <td>29278</td>\n",
       "      <td>1.000000</td>\n",
       "      <td>1.000000</td>\n",
       "    </tr>\n",
       "    <tr>\n",
       "      <td>1</td>\n",
       "      <td>16</td>\n",
       "      <td>178</td>\n",
       "      <td>164.483146</td>\n",
       "      <td>10.280197</td>\n",
       "    </tr>\n",
       "    <tr>\n",
       "      <td>2</td>\n",
       "      <td>25</td>\n",
       "      <td>78</td>\n",
       "      <td>375.358974</td>\n",
       "      <td>15.014359</td>\n",
       "    </tr>\n",
       "    <tr>\n",
       "      <td>3</td>\n",
       "      <td>64</td>\n",
       "      <td>16</td>\n",
       "      <td>1829.875000</td>\n",
       "      <td>28.591797</td>\n",
       "    </tr>\n",
       "    <tr>\n",
       "      <td>4</td>\n",
       "      <td>256</td>\n",
       "      <td>2</td>\n",
       "      <td>14639.000000</td>\n",
       "      <td>57.183594</td>\n",
       "    </tr>\n",
       "    <tr>\n",
       "      <td>5</td>\n",
       "      <td>400</td>\n",
       "      <td>1</td>\n",
       "      <td>29278.000000</td>\n",
       "      <td>73.195000</td>\n",
       "    </tr>\n",
       "  </tbody>\n",
       "</table>\n",
       "</div>"
      ],
      "text/plain": [
       "   Procesadores  Tiempo    Aceleracion  Eficiencia\n",
       "0             1    29278      1.000000    1.000000\n",
       "1            16      178    164.483146   10.280197\n",
       "2            25       78    375.358974   15.014359\n",
       "3            64       16   1829.875000   28.591797\n",
       "4           256        2  14639.000000   57.183594\n",
       "5           400        1  29278.000000   73.195000"
      ]
     },
     "execution_count": 8,
     "metadata": {},
     "output_type": "execute_result"
    }
   ],
   "source": []
  },
  {
   "cell_type": "markdown",
   "metadata": {},
   "source": [
    "####   3.1.3 Llenar la columna de Costo "
   ]
  },
  {
   "cell_type": "code",
   "execution_count": 10,
   "metadata": {},
   "outputs": [
    {
     "data": {
      "text/html": [
       "<div>\n",
       "<style scoped>\n",
       "    .dataframe tbody tr th:only-of-type {\n",
       "        vertical-align: middle;\n",
       "    }\n",
       "\n",
       "    .dataframe tbody tr th {\n",
       "        vertical-align: top;\n",
       "    }\n",
       "\n",
       "    .dataframe thead th {\n",
       "        text-align: right;\n",
       "    }\n",
       "</style>\n",
       "<table border=\"1\" class=\"dataframe\">\n",
       "  <thead>\n",
       "    <tr style=\"text-align: right;\">\n",
       "      <th></th>\n",
       "      <th>Procesadores</th>\n",
       "      <th>Tiempo</th>\n",
       "      <th>Aceleracion</th>\n",
       "      <th>Eficiencia</th>\n",
       "      <th>Costo</th>\n",
       "    </tr>\n",
       "  </thead>\n",
       "  <tbody>\n",
       "    <tr>\n",
       "      <td>0</td>\n",
       "      <td>1</td>\n",
       "      <td>29278</td>\n",
       "      <td>1.000000</td>\n",
       "      <td>1.000000</td>\n",
       "      <td>29278</td>\n",
       "    </tr>\n",
       "    <tr>\n",
       "      <td>1</td>\n",
       "      <td>16</td>\n",
       "      <td>178</td>\n",
       "      <td>164.483146</td>\n",
       "      <td>10.280197</td>\n",
       "      <td>2848</td>\n",
       "    </tr>\n",
       "    <tr>\n",
       "      <td>2</td>\n",
       "      <td>25</td>\n",
       "      <td>78</td>\n",
       "      <td>375.358974</td>\n",
       "      <td>15.014359</td>\n",
       "      <td>1950</td>\n",
       "    </tr>\n",
       "    <tr>\n",
       "      <td>3</td>\n",
       "      <td>64</td>\n",
       "      <td>16</td>\n",
       "      <td>1829.875000</td>\n",
       "      <td>28.591797</td>\n",
       "      <td>1024</td>\n",
       "    </tr>\n",
       "    <tr>\n",
       "      <td>4</td>\n",
       "      <td>256</td>\n",
       "      <td>2</td>\n",
       "      <td>14639.000000</td>\n",
       "      <td>57.183594</td>\n",
       "      <td>512</td>\n",
       "    </tr>\n",
       "    <tr>\n",
       "      <td>5</td>\n",
       "      <td>400</td>\n",
       "      <td>1</td>\n",
       "      <td>29278.000000</td>\n",
       "      <td>73.195000</td>\n",
       "      <td>400</td>\n",
       "    </tr>\n",
       "  </tbody>\n",
       "</table>\n",
       "</div>"
      ],
      "text/plain": [
       "   Procesadores  Tiempo    Aceleracion  Eficiencia  Costo\n",
       "0             1    29278      1.000000    1.000000  29278\n",
       "1            16      178    164.483146   10.280197   2848\n",
       "2            25       78    375.358974   15.014359   1950\n",
       "3            64       16   1829.875000   28.591797   1024\n",
       "4           256        2  14639.000000   57.183594    512\n",
       "5           400        1  29278.000000   73.195000    400"
      ]
     },
     "execution_count": 10,
     "metadata": {},
     "output_type": "execute_result"
    }
   ],
   "source": [
    "pro = df.Procesadores\n",
    "costo = list(map(operator.mul, pro,tp))\n",
    "df['Costo'] = costo\n",
    "df"
   ]
  },
  {
   "cell_type": "code",
   "execution_count": 17,
   "metadata": {},
   "outputs": [
    {
     "data": {
      "image/png": "[encoded data removed]",
      "text/plain": [
       "<Figure size 432x288 with 1 Axes>"
      ]
     },
     "metadata": {
      "needs_background": "light"
     },
     "output_type": "display_data"
    }
   ],
   "source": [
    "plt.plot(costo, Eficiencia, aceleracion)\n",
    "plt.show()"
   ]
  },
  {
   "cell_type": "markdown",
   "metadata": {},
   "source": [
    "#### 3.1.4 LLenar la columna de Aceleracion, costo  y eficiencia relativa"
   ]
  },
  {
   "cell_type": "code",
   "execution_count": 19,
   "metadata": {},
   "outputs": [
    {
     "data": {
      "text/html": [
       "<div>\n",
       "<style scoped>\n",
       "    .dataframe tbody tr th:only-of-type {\n",
       "        vertical-align: middle;\n",
       "    }\n",
       "\n",
       "    .dataframe tbody tr th {\n",
       "        vertical-align: top;\n",
       "    }\n",
       "\n",
       "    .dataframe thead th {\n",
       "        text-align: right;\n",
       "    }\n",
       "</style>\n",
       "<table border=\"1\" class=\"dataframe\">\n",
       "  <thead>\n",
       "    <tr style=\"text-align: right;\">\n",
       "      <th></th>\n",
       "      <th>Procesadores</th>\n",
       "      <th>Tiempo</th>\n",
       "      <th>Aceleracion</th>\n",
       "      <th>Aceleracion_Relativa</th>\n",
       "    </tr>\n",
       "  </thead>\n",
       "  <tbody>\n",
       "    <tr>\n",
       "      <td>0</td>\n",
       "      <td>1</td>\n",
       "      <td>29278</td>\n",
       "      <td>1.000000</td>\n",
       "      <td>0.006080</td>\n",
       "    </tr>\n",
       "    <tr>\n",
       "      <td>1</td>\n",
       "      <td>16</td>\n",
       "      <td>178</td>\n",
       "      <td>164.483146</td>\n",
       "      <td>1.000000</td>\n",
       "    </tr>\n",
       "    <tr>\n",
       "      <td>2</td>\n",
       "      <td>25</td>\n",
       "      <td>78</td>\n",
       "      <td>375.358974</td>\n",
       "      <td>2.282051</td>\n",
       "    </tr>\n",
       "    <tr>\n",
       "      <td>3</td>\n",
       "      <td>64</td>\n",
       "      <td>16</td>\n",
       "      <td>1829.875000</td>\n",
       "      <td>11.125000</td>\n",
       "    </tr>\n",
       "    <tr>\n",
       "      <td>4</td>\n",
       "      <td>256</td>\n",
       "      <td>2</td>\n",
       "      <td>14639.000000</td>\n",
       "      <td>89.000000</td>\n",
       "    </tr>\n",
       "    <tr>\n",
       "      <td>5</td>\n",
       "      <td>400</td>\n",
       "      <td>1</td>\n",
       "      <td>29278.000000</td>\n",
       "      <td>178.000000</td>\n",
       "    </tr>\n",
       "  </tbody>\n",
       "</table>\n",
       "</div>"
      ],
      "text/plain": [
       "   Procesadores  Tiempo    Aceleracion  Aceleracion_Relativa\n",
       "0             1    29278      1.000000              0.006080\n",
       "1            16      178    164.483146              1.000000\n",
       "2            25       78    375.358974              2.282051\n",
       "3            64       16   1829.875000             11.125000\n",
       "4           256        2  14639.000000             89.000000\n",
       "5           400        1  29278.000000            178.000000"
      ]
     },
     "execution_count": 19,
     "metadata": {},
     "output_type": "execute_result"
    }
   ],
   "source": [
    "### Aceleracion relativa\n",
    "tr= 178\n",
    "ar = []\n",
    "for i in tp:\n",
    "    ar.append(tr/i)\n",
    "df['Aceleracion_Relativa'] = ar\n",
    "df\n",
    " \n",
    "\n",
    "\n"
   ]
  },
  {
   "cell_type": "code",
   "execution_count": 20,
   "metadata": {},
   "outputs": [
    {
     "data": {
      "text/plain": [
       "[0.09727440398934353, 16.0, 36.51282051282051, 178.0, 1424.0, 2848.0]"
      ]
     },
     "execution_count": 20,
     "metadata": {},
     "output_type": "execute_result"
    }
   ],
   "source": [
    "### Eficiencia relativa\n",
    "p= 16 \n",
    "arsemi= []\n",
    "for i in ar:\n",
    "    arsemi.append(p*i)\n",
    "arsemi    \n",
    "    \n"
   ]
  },
  {
   "cell_type": "code",
   "execution_count": 21,
   "metadata": {},
   "outputs": [
    {
     "data": {
      "text/html": [
       "<div>\n",
       "<style scoped>\n",
       "    .dataframe tbody tr th:only-of-type {\n",
       "        vertical-align: middle;\n",
       "    }\n",
       "\n",
       "    .dataframe tbody tr th {\n",
       "        vertical-align: top;\n",
       "    }\n",
       "\n",
       "    .dataframe thead th {\n",
       "        text-align: right;\n",
       "    }\n",
       "</style>\n",
       "<table border=\"1\" class=\"dataframe\">\n",
       "  <thead>\n",
       "    <tr style=\"text-align: right;\">\n",
       "      <th></th>\n",
       "      <th>Procesadores</th>\n",
       "      <th>Tiempo</th>\n",
       "      <th>Aceleracion</th>\n",
       "      <th>Aceleracion_Relativa</th>\n",
       "      <th>Eficiencia Relativa</th>\n",
       "    </tr>\n",
       "  </thead>\n",
       "  <tbody>\n",
       "    <tr>\n",
       "      <td>0</td>\n",
       "      <td>1</td>\n",
       "      <td>29278</td>\n",
       "      <td>1.000000</td>\n",
       "      <td>0.006080</td>\n",
       "      <td>0.097274</td>\n",
       "    </tr>\n",
       "    <tr>\n",
       "      <td>1</td>\n",
       "      <td>16</td>\n",
       "      <td>178</td>\n",
       "      <td>164.483146</td>\n",
       "      <td>1.000000</td>\n",
       "      <td>1.000000</td>\n",
       "    </tr>\n",
       "    <tr>\n",
       "      <td>2</td>\n",
       "      <td>25</td>\n",
       "      <td>78</td>\n",
       "      <td>375.358974</td>\n",
       "      <td>2.282051</td>\n",
       "      <td>1.460513</td>\n",
       "    </tr>\n",
       "    <tr>\n",
       "      <td>3</td>\n",
       "      <td>64</td>\n",
       "      <td>16</td>\n",
       "      <td>1829.875000</td>\n",
       "      <td>11.125000</td>\n",
       "      <td>2.781250</td>\n",
       "    </tr>\n",
       "    <tr>\n",
       "      <td>4</td>\n",
       "      <td>256</td>\n",
       "      <td>2</td>\n",
       "      <td>14639.000000</td>\n",
       "      <td>89.000000</td>\n",
       "      <td>5.562500</td>\n",
       "    </tr>\n",
       "    <tr>\n",
       "      <td>5</td>\n",
       "      <td>400</td>\n",
       "      <td>1</td>\n",
       "      <td>29278.000000</td>\n",
       "      <td>178.000000</td>\n",
       "      <td>7.120000</td>\n",
       "    </tr>\n",
       "  </tbody>\n",
       "</table>\n",
       "</div>"
      ],
      "text/plain": [
       "   Procesadores  Tiempo    Aceleracion  Aceleracion_Relativa  \\\n",
       "0             1    29278      1.000000              0.006080   \n",
       "1            16      178    164.483146              1.000000   \n",
       "2            25       78    375.358974              2.282051   \n",
       "3            64       16   1829.875000             11.125000   \n",
       "4           256        2  14639.000000             89.000000   \n",
       "5           400        1  29278.000000            178.000000   \n",
       "\n",
       "   Eficiencia Relativa  \n",
       "0             0.097274  \n",
       "1             1.000000  \n",
       "2             1.460513  \n",
       "3             2.781250  \n",
       "4             5.562500  \n",
       "5             7.120000  "
      ]
     },
     "execution_count": 21,
     "metadata": {},
     "output_type": "execute_result"
    }
   ],
   "source": [
    "Er = list(map(operator.truediv, arsemi,pro))\n",
    "df['Eficiencia Relativa'] = Er\n",
    "df"
   ]
  },
  {
   "cell_type": "code",
   "execution_count": 22,
   "metadata": {},
   "outputs": [
    {
     "data": {
      "text/html": [
       "<div>\n",
       "<style scoped>\n",
       "    .dataframe tbody tr th:only-of-type {\n",
       "        vertical-align: middle;\n",
       "    }\n",
       "\n",
       "    .dataframe tbody tr th {\n",
       "        vertical-align: top;\n",
       "    }\n",
       "\n",
       "    .dataframe thead th {\n",
       "        text-align: right;\n",
       "    }\n",
       "</style>\n",
       "<table border=\"1\" class=\"dataframe\">\n",
       "  <thead>\n",
       "    <tr style=\"text-align: right;\">\n",
       "      <th></th>\n",
       "      <th>Procesadores</th>\n",
       "      <th>Tiempo</th>\n",
       "      <th>Aceleracion</th>\n",
       "      <th>Aceleracion_Relativa</th>\n",
       "      <th>Eficiencia Relativa</th>\n",
       "      <th>Costo_Relativo</th>\n",
       "    </tr>\n",
       "  </thead>\n",
       "  <tbody>\n",
       "    <tr>\n",
       "      <td>0</td>\n",
       "      <td>1</td>\n",
       "      <td>29278</td>\n",
       "      <td>1.000000</td>\n",
       "      <td>0.006080</td>\n",
       "      <td>0.097274</td>\n",
       "      <td>0.0625</td>\n",
       "    </tr>\n",
       "    <tr>\n",
       "      <td>1</td>\n",
       "      <td>16</td>\n",
       "      <td>178</td>\n",
       "      <td>164.483146</td>\n",
       "      <td>1.000000</td>\n",
       "      <td>1.000000</td>\n",
       "      <td>1.0000</td>\n",
       "    </tr>\n",
       "    <tr>\n",
       "      <td>2</td>\n",
       "      <td>25</td>\n",
       "      <td>78</td>\n",
       "      <td>375.358974</td>\n",
       "      <td>2.282051</td>\n",
       "      <td>1.460513</td>\n",
       "      <td>1.5625</td>\n",
       "    </tr>\n",
       "    <tr>\n",
       "      <td>3</td>\n",
       "      <td>64</td>\n",
       "      <td>16</td>\n",
       "      <td>1829.875000</td>\n",
       "      <td>11.125000</td>\n",
       "      <td>2.781250</td>\n",
       "      <td>4.0000</td>\n",
       "    </tr>\n",
       "    <tr>\n",
       "      <td>4</td>\n",
       "      <td>256</td>\n",
       "      <td>2</td>\n",
       "      <td>14639.000000</td>\n",
       "      <td>89.000000</td>\n",
       "      <td>5.562500</td>\n",
       "      <td>16.0000</td>\n",
       "    </tr>\n",
       "    <tr>\n",
       "      <td>5</td>\n",
       "      <td>400</td>\n",
       "      <td>1</td>\n",
       "      <td>29278.000000</td>\n",
       "      <td>178.000000</td>\n",
       "      <td>7.120000</td>\n",
       "      <td>25.0000</td>\n",
       "    </tr>\n",
       "  </tbody>\n",
       "</table>\n",
       "</div>"
      ],
      "text/plain": [
       "   Procesadores  Tiempo    Aceleracion  Aceleracion_Relativa  \\\n",
       "0             1    29278      1.000000              0.006080   \n",
       "1            16      178    164.483146              1.000000   \n",
       "2            25       78    375.358974              2.282051   \n",
       "3            64       16   1829.875000             11.125000   \n",
       "4           256        2  14639.000000             89.000000   \n",
       "5           400        1  29278.000000            178.000000   \n",
       "\n",
       "   Eficiencia Relativa  Costo_Relativo  \n",
       "0             0.097274          0.0625  \n",
       "1             1.000000          1.0000  \n",
       "2             1.460513          1.5625  \n",
       "3             2.781250          4.0000  \n",
       "4             5.562500         16.0000  \n",
       "5             7.120000         25.0000  "
      ]
     },
     "execution_count": 22,
     "metadata": {},
     "output_type": "execute_result"
    }
   ],
   "source": [
    "###Costo relativo \n",
    "pro1 = [1,16,25,64,256,400]\n",
    "p1 = 16\n",
    "cr = []\n",
    "for i in pro:\n",
    "    cr.append(i/p1)\n",
    "df[\"Costo_Relativo\"] = cr\n",
    "df\n"
   ]
  },
  {
   "cell_type": "code",
   "execution_count": 23,
   "metadata": {},
   "outputs": [
    {
     "data": {
      "image/png": "[encoded data removed]",
      "text/plain": [
       "<Figure size 432x288 with 1 Axes>"
      ]
     },
     "metadata": {
      "needs_background": "light"
     },
     "output_type": "display_data"
    }
   ],
   "source": [
    "plt.plot(cr, Er, ar)\n",
    "plt.show()"
   ]
  },
  {
   "cell_type": "markdown",
   "metadata": {},
   "source": [
    "###  4.- Llenado de valores con el valor atipico \n"
   ]
  },
  {
   "cell_type": "code",
   "execution_count": null,
   "metadata": {},
   "outputs": [],
   "source": [
    "atipico = [430,178,78,16,2,1]\n",
    "df[\"Tiempo_transparente\"] = atipico"
   ]
  },
  {
   "cell_type": "code",
   "execution_count": null,
   "metadata": {},
   "outputs": [],
   "source": [
    "#Aceleracion transparente\n",
    "t1 = 430\n",
    "aceleracion_tra = []\n",
    "for i in atipico:\n",
    "    aceleracion_tra.append(t1/i)\n",
    "df[\"aceleracion_transparente\"] = aceleracion_tra\n",
    "df"
   ]
  },
  {
   "cell_type": "code",
   "execution_count": null,
   "metadata": {},
   "outputs": [],
   "source": [
    "#Eficiencia Transparente\n",
    "actra = df.aceleracion_transparente\n",
    "protra = df.Procesadores \n",
    "\n",
    "Eficiencia_transparente = list(map(operator.truediv, actra,protra))\n",
    "df[\"Eficiencia_transparente\"] = Eficiencia_transparente\n",
    "df"
   ]
  },
  {
   "cell_type": "code",
   "execution_count": null,
   "metadata": {},
   "outputs": [],
   "source": [
    "### Costo Transparente\n",
    "pro1 = df.Procesadores\n",
    "costo_transparente = list(map(operator.mul, pro1,atipico))\n"
   ]
  },
  {
   "cell_type": "code",
   "execution_count": null,
   "metadata": {},
   "outputs": [],
   "source": [
    "### Aceleracion relativa transparente\n",
    "tr= 178\n",
    "ar_tra = []\n",
    "for i in atipico:\n",
    "    ar_tra.append(tr/i)"
   ]
  },
  {
   "cell_type": "code",
   "execution_count": null,
   "metadata": {},
   "outputs": [],
   "source": [
    "### Eficiencia relativa transparente\n",
    "p= 16 \n",
    "arsemi_tra= []\n",
    "for i in ar_tra:\n",
    "    arsemi_tra.append(p*i)\n"
   ]
  },
  {
   "cell_type": "code",
   "execution_count": null,
   "metadata": {},
   "outputs": [],
   "source": [
    "Er_tra = list(map(operator.truediv, arsemi_tra,pro1))\n"
   ]
  },
  {
   "cell_type": "code",
   "execution_count": null,
   "metadata": {},
   "outputs": [],
   "source": [
    "p1 = 16\n",
    "cr_tra = []\n",
    "for i in pro:\n",
    "    cr_tra.append(i/p1)\n",
    "\n"
   ]
  },
  {
   "cell_type": "code",
   "execution_count": 24,
   "metadata": {},
   "outputs": [
    {
     "ename": "NameError",
     "evalue": "name 'ar_tra' is not defined",
     "output_type": "error",
     "traceback": [
      "\u001b[1;31m---------------------------------------------------------------------------\u001b[0m",
      "\u001b[1;31mNameError\u001b[0m                                 Traceback (most recent call last)",
      "\u001b[1;32m<ipython-input-24-ba3eab3fbda0>\u001b[0m in \u001b[0;36m<module>\u001b[1;34m\u001b[0m\n\u001b[1;32m----> 1\u001b[1;33m \u001b[0mdf\u001b[0m\u001b[1;33m[\u001b[0m\u001b[1;34m\"Aceleracion_Relativa_Transparente\"\u001b[0m\u001b[1;33m]\u001b[0m \u001b[1;33m=\u001b[0m \u001b[0mar_tra\u001b[0m\u001b[1;33m\u001b[0m\u001b[1;33m\u001b[0m\u001b[0m\n\u001b[0m\u001b[0;32m      2\u001b[0m \u001b[0mdf\u001b[0m\u001b[1;33m[\u001b[0m\u001b[1;34m\"Eficiencia_Relativa_Transparente\"\u001b[0m\u001b[1;33m]\u001b[0m \u001b[1;33m=\u001b[0m \u001b[0mEr_tra\u001b[0m\u001b[1;33m\u001b[0m\u001b[1;33m\u001b[0m\u001b[0m\n\u001b[0;32m      3\u001b[0m \u001b[0mdf\u001b[0m\u001b[1;33m[\u001b[0m\u001b[1;34m\"Costo_Relativo_transparente\"\u001b[0m\u001b[1;33m]\u001b[0m \u001b[1;33m=\u001b[0m \u001b[0mcr_tra\u001b[0m\u001b[1;33m\u001b[0m\u001b[1;33m\u001b[0m\u001b[0m\n\u001b[0;32m      4\u001b[0m \u001b[0mdf\u001b[0m\u001b[1;33m\u001b[0m\u001b[1;33m\u001b[0m\u001b[0m\n",
      "\u001b[1;31mNameError\u001b[0m: name 'ar_tra' is not defined"
     ]
    }
   ],
   "source": [
    "df[\"Aceleracion_Relativa_Transparente\"] = ar_tra\n",
    "df[\"Eficiencia_Relativa_Transparente\"] = Er_tra\n",
    "df[\"Costo_Relativo_transparente\"] = cr_tra\n",
    "df"
   ]
  }
 ],
 "metadata": {
  "kernelspec": {
   "display_name": "Python 3",
   "language": "python",
   "name": "python3"
  },
  "language_info": {
   "codemirror_mode": {
    "name": "ipython",
    "version": 3
   },
   "file_extension": ".py",
   "mimetype": "text/x-python",
   "name": "python",
   "nbconvert_exporter": "python",
   "pygments_lexer": "ipython3",
   "version": "3.7.4"
  }
 },
 "nbformat": 4,
 "nbformat_minor": 2
}
